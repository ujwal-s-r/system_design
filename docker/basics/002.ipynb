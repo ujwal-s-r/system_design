{
 "cells": [
  {
   "cell_type": "markdown",
   "id": "b2917aad",
   "metadata": {},
   "source": [
    " # Multi-Container Applications with Docker Compose.<br>\n",
    "If a Dockerfile is the blueprint for a single building (an image), then a docker-compose.yml file is the master city plan for your entire application neighborhood.\n",
    "\n",
    "<br>\n",
    "With one file, you define your services (web, db, cache), networks, and volumes. With one command, you can bring your entire application stack up or tear it down."
   ]
  },
  {
   "cell_type": "markdown",
   "id": "71ed7dea",
   "metadata": {},
   "source": [
    "The docker-compose.yml File\n",
    "This is a YAML file that describes your stack. Here are the key building blocks:\n",
    "\n",
    "**services**: This is the main section. Each item under services is a container that is part of your application (e.g., web, redis).\n",
    "\n",
    "**build**: Tells Compose to build an image from a Dockerfile in a specific path (e.g., . for the current directory).\n",
    "\n",
    "**image**: Tells Compose to pull a pre-built image from a registry like Docker Hub (e.g., redis:7-alpine).\n",
    "\n",
    "**ports**: Maps ports between the host and the container, just like the -p flag.\n",
    "\n",
    "**volumes**: Mounts bind mounts or named volumes, just like the -v flag.\n",
    "\n",
    "**environment**: Sets environment variables, just like the -e flag.\n",
    "\n",
    "Core Commands\n",
    "You'll use these three commands constantly:\n",
    "\n",
    "```docker-compose up```: Builds (if necessary), creates, starts, and attaches to all the containers in your stack. Use docker-compose up -d to run in the background (detached mode).\n",
    "\n",
    "```docker-compose down```: The clean-up command. It stops and removes all containers, networks, and other resources created by up.\n",
    "\n",
    "```docker-compose ps```: Lists the running containers managed by Compose in the current project.\n",
    "\n"
   ]
  },
  {
   "cell_type": "markdown",
   "id": "ddc8980c",
   "metadata": {},
   "source": []
  }
 ],
 "metadata": {
  "language_info": {
   "name": "python"
  }
 },
 "nbformat": 4,
 "nbformat_minor": 5
}
