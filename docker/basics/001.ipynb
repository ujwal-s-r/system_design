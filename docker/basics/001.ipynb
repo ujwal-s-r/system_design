{
 "cells": [
  {
   "cell_type": "markdown",
   "id": "5f92e732",
   "metadata": {},
   "source": [
    "docker pull python:3.11-slim<br>\n",
    ":tag-version"
   ]
  },
  {
   "cell_type": "markdown",
   "id": "8f8e76c2",
   "metadata": {},
   "source": [
    "list images <br>\n",
    "```docker images```<br>\n",
    "```docker rmi <image_id>```<br>\n",
    "```docker -f rmi <image_id>``` forced"
   ]
  },
  {
   "cell_type": "markdown",
   "id": "9bfcae02",
   "metadata": {},
   "source": [
    "### Running a Container Interactively\n",
    "Let's run a container from this image. We'll use the -it flag to get an interactive terminal session inside the container. The command we'll run inside it is bash.<br>\n",
    "```docker run -it python:3.11-slim bash```<br>\n",
    "Your terminal prompt should change. It will look something like root@a1b2c3d4e5f6:/#. You are now inside the container!\n",
    "\n",
    "Try running these commands inside the container to explore its isolated environment:\n",
    "<br>\n",
    "ls -la (Lists files in the current directory)\n",
    "<br>\n",
    "pwd (Shows your current directory, which is /)\n",
    "<br>\n",
    "python --version (Confirms the Python version inside the container)\n",
    "<br>\n",
    "To leave the container, simply type exit and press Enter."
   ]
  },
  {
   "cell_type": "markdown",
   "id": "7cacc9e8",
   "metadata": {},
   "source": [
    "## Managing Containers\n",
    "When you exited, the container stopped. Let's see how we can manage it.\n",
    "<br>\n",
    "List running containers:\n",
    "\n",
    "```\n",
    "docker ps\n",
    "```\n",
    "This will show an empty list, because your container is no longer running.\n",
    "<br>\n",
    "List all containers (running and stopped):\n",
    "<br>\n",
    "```\n",
    "docker ps -a\n",
    "```\n",
    "<br>\n",
    "Now you'll see your container listed with a status like Exited (0) .... Note its CONTAINER ID.\n",
    "<br>\n",
    "Remove a stopped container:\n",
    "It's good practice to clean up containers you no longer need. Copy the first few characters of the CONTAINER ID from the previous command and use them here:<br>\n",
    "```docker rm a1b2c3d4e5f6```\n",
    "Now if you run docker ps -a again, the container will be gone.\n",
    "\n",
    "Pro Tip: To remove all stopped containers at once, you can run \n",
    "<br>\n",
    "```docker container prune```"
   ]
  },
  {
   "cell_type": "markdown",
   "id": "5257e7ee",
   "metadata": {},
   "source": [
    "## Build Your Custom Image\n",
    "Open your terminal and make sure you are in the project directory you just created. Run the docker build command:\n",
    "```docker build -t first-app .```"
   ]
  },
  {
   "cell_type": "markdown",
   "id": "d3caf38e",
   "metadata": {},
   "source": [
    "### Run Your Application Container\n",
    "```docker run -p 5001:5000 my-first-app```"
   ]
  },
  {
   "cell_type": "markdown",
   "id": "4b22121f",
   "metadata": {},
   "source": [
    "## Data persistence\n",
    "Excellent. Let's tackle the final lesson of our first module: Module 1, Lesson 4: Data Persistence with Volumes.<br>\n",
    "\n",
    "This lesson addresses a critical question: If containers are temporary, where do I keep my permanent data?<br>\n",
    "\n",
    "Theory: Don't Lose Your Data! 💾<br>\n",
    "The Problem: The Ephemeral Filesystem<br>\n",
    "As we discussed, a container's writable layer is ephemeral. When you run docker rm to delete a container, that top layer is destroyed. Any data your application generated—like log files, user uploads, or database entries—is permanently lost.\n",
    "<br>\n",
    "This is fine for stateless applications, but it's a deal-breaker for anything that needs to remember information. We need a way to store data outside of the container's lifecycle. Docker provides two main ways to do this.<br>"
   ]
  },
  {
   "cell_type": "markdown",
   "id": "7da02c11",
   "metadata": {},
   "source": [
    "### Solution 1: Bind Mounts (A \"Window\" to Your Host)\n",
    "**Primary Use Case: Development.**<br> It's perfect for live code reloading. You can edit your Python code on your host machine with your favorite code editor, and the changes are immediately reflected inside the running container without needing to rebuild the image."
   ]
  },
  {
   "cell_type": "markdown",
   "id": "c862be69",
   "metadata": {},
   "source": [
    "```docker build -t my-first-app .```<br>\n",
    "```docker run -p 5001:5000 -v \"%cd%\":/app my-first-app``` or ```docker run -p 5001:5000 -v \"$(pwd)\":/app my-first-app```<br>\n"
   ]
  },
  {
   "cell_type": "markdown",
   "id": "644d0c19",
   "metadata": {},
   "source": [
    "Test Live Reloading:\n",
    "\n",
    "Go to http://localhost:5001 in your browser. You'll see the original message.\n",
    "\n",
    "Now, without stopping the container, go back to your code editor and change the message in app.py. For example: return 'Live Reload is Awesome!'. Save the file.\n",
    "\n",
    "Refresh your browser. The new message will appear instantly! You've just used a bind mount to sync your local code with the running container."
   ]
  },
  {
   "cell_type": "markdown",
   "id": "a39fb1be",
   "metadata": {},
   "source": [
    "### Solution 2: Volumes (A \"Managed Hard Drive\")<br>\n",
    "A volume is a dedicated storage area that is fully managed by Docker. You tell Docker to attach a volume to your container, and Docker handles the details of where to store it on the host machine. The key is that the volume's lifecycle is completely separate from any container's lifecycle.<br>\n",
    "\n",
    "Analogy: Think of it as plugging a dedicated, managed external hard drive into your container. You can unplug it from one container and plug it into another, and the data remains intact.<br>\n",
    "\n",
    "Primary Use Case: Production & Storing Application Data. This is the preferred way to handle data you care about, such as database files, configuration, logs, and user-generated content. They are more portable and platform-agnostic than bind mounts.\n",
    "<br>\n",
    "Structure: ```-v volume-name:/path/in/container```"
   ]
  },
  {
   "cell_type": "markdown",
   "id": "ba4260d1",
   "metadata": {},
   "source": [
    "```docker build -t my-logger .``` <br>\n",
    "```docker run -d --name logger-container -v log-data:/data/logs my-logger```\n",
    "**The -d flag runs the container in \"detached\" mode (in the background).**"
   ]
  },
  {
   "cell_type": "markdown",
   "id": "5d536a7c",
   "metadata": {},
   "source": [
    "```docker stop logger-container```<br>\n",
    "```docker rm logger-container```"
   ]
  },
  {
   "cell_type": "markdown",
   "id": "5fcbdea6",
   "metadata": {},
   "source": [
    "```docker run --rm -v log-data:/data/logs busybox cat /data/logs/app.log```<br>\n",
    "see if the volume we created we can mount it and run in another container"
   ]
  },
  {
   "cell_type": "markdown",
   "id": "491558e5",
   "metadata": {},
   "source": [
    "```docker volume ls```            # See your 'log-data' volume<br>\n",
    "```docker volume rm log-data```       # Remove the volume"
   ]
  },
  {
   "cell_type": "markdown",
   "id": "3398c66e",
   "metadata": {},
   "source": []
  }
 ],
 "metadata": {
  "language_info": {
   "name": "python"
  }
 },
 "nbformat": 4,
 "nbformat_minor": 5
}
