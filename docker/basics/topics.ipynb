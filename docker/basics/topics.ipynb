{
 "cells": [
  {
   "cell_type": "markdown",
   "id": "5f92e732",
   "metadata": {},
   "source": [
    "docker pull python:3.11-slim<br>\n",
    ":tag-version"
   ]
  },
  {
   "cell_type": "markdown",
   "id": "8f8e76c2",
   "metadata": {},
   "source": [
    "list images <br>\n",
    "```docker images```"
   ]
  },
  {
   "cell_type": "markdown",
   "id": "9bfcae02",
   "metadata": {},
   "source": [
    "### Running a Container Interactively\n",
    "Let's run a container from this image. We'll use the -it flag to get an interactive terminal session inside the container. The command we'll run inside it is bash.<br>\n",
    "```docker run -it python:3.11-slim bash```<br>\n",
    "Your terminal prompt should change. It will look something like root@a1b2c3d4e5f6:/#. You are now inside the container!\n",
    "\n",
    "Try running these commands inside the container to explore its isolated environment:\n",
    "<br>\n",
    "ls -la (Lists files in the current directory)\n",
    "<br>\n",
    "pwd (Shows your current directory, which is /)\n",
    "<br>\n",
    "python --version (Confirms the Python version inside the container)\n",
    "<br>\n",
    "To leave the container, simply type exit and press Enter."
   ]
  },
  {
   "cell_type": "markdown",
   "id": "7cacc9e8",
   "metadata": {},
   "source": [
    "## Managing Containers\n",
    "When you exited, the container stopped. Let's see how we can manage it.\n",
    "<br>\n",
    "List running containers:\n",
    "\n",
    "```\n",
    "docker ps\n",
    "```\n",
    "This will show an empty list, because your container is no longer running.\n",
    "<br>\n",
    "List all containers (running and stopped):\n",
    "<br>\n",
    "```\n",
    "docker ps -a\n",
    "```\n",
    "<br>\n",
    "Now you'll see your container listed with a status like Exited (0) .... Note its CONTAINER ID.\n",
    "<br>\n",
    "Remove a stopped container:\n",
    "It's good practice to clean up containers you no longer need. Copy the first few characters of the CONTAINER ID from the previous command and use them here:<br>\n",
    "```docker rm a1b2c3d4e5f6```\n",
    "Now if you run docker ps -a again, the container will be gone.\n",
    "\n",
    "Pro Tip: To remove all stopped containers at once, you can run \n",
    "<br>\n",
    "```docker container prune```"
   ]
  },
  {
   "cell_type": "markdown",
   "id": "5257e7ee",
   "metadata": {},
   "source": [
    "## Build Your Custom Image\n",
    "Open your terminal and make sure you are in the project directory you just created. Run the docker build command:\n",
    "```docker build -t first-app .```"
   ]
  },
  {
   "cell_type": "markdown",
   "id": "d3caf38e",
   "metadata": {},
   "source": [
    "### Run Your Application Container\n",
    "```docker run -p 5001:5000 my-first-app```"
   ]
  },
  {
   "cell_type": "markdown",
   "id": "4b22121f",
   "metadata": {},
   "source": []
  }
 ],
 "metadata": {
  "language_info": {
   "name": "python"
  }
 },
 "nbformat": 4,
 "nbformat_minor": 5
}
